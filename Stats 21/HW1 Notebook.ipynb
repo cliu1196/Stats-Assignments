{
 "cells": [
  {
   "cell_type": "markdown",
   "metadata": {},
   "source": [
    "# Stats 21: Homework 1\n",
    "## Charles Liu (304804942)\n",
    "\n",
    "I've started the homework file for you. You'll need to fill in the rest with your answers.\n",
    "My encouragement is to use the keyboard shortcuts as much as possible and use the mouse as little as possible while working the Jupyter Notebook.\n",
    "\n",
    "After you complete the homework with your answers, go to the menu and choose Kernel > Restart & Run All. Go through the document to **make sure all requested output is visible**. You will not get credit for problems where the requested output is not visible, even if the function you coded is correct.\n",
    "\n",
    "When you are satisfied with the output, choose File > Download As ... > PDF, or choose HTML. Submit the PDF or HTML file to CCLE."
   ]
  },
  {
   "cell_type": "markdown",
   "metadata": {},
   "source": [
    "# Problem 1"
   ]
  },
  {
   "cell_type": "markdown",
   "metadata": {},
   "source": [
    "# Homework 1 **(This section is for Questions and Answers *ONLY*)**\n",
    "Exercises 1-4 are insipred by exercises from Think Python by Allen B. Downey and adapted\n",
    "by Siyuan Huang and Miles Chen. For personal use only. Do not distribute or post online.\n",
    "\n",
    "Instructions:\n",
    "- Install Anaconda and use Jupyter Notebook as your development environment.\n",
    "- Each question should have its own cell. Cells must indicate the question that is being answered.\n",
    "- Questions that can be answered with a sentence or text should be answered with markdown cells. Questions that are to be answered with a calculation or code should be answered with a code cell.\n",
    "- It is important that appropriate outputs are properly displayed and visible. Cells that do not display the required output will not be awarded credit even if the code inside the cell is correct.\n",
    "\n",
    "## 1. Problem 1\n",
    "Please answer the following questions. (5 points each)\n",
    "### (A) In a print statement, what happens if you leave out one of the parentheses, or both? What kind of error messages does Python produce for these mistakes? Try the following operations to help you and your answers.\n",
    "\n",
    "\u000f print \"Hello, world!\"\n",
    "\u000f print(\"Hello, world!\"\n",
    "\n",
    "**Answer for 1A** It'll produce an error message if you leave out any of the parentheses. For both, the error type is a Syntax Error. If you leave out both parentheses, then the message will say \"Missing parentheses in call to 'print'. Did you mean print(\"Hello, world!\")?\". If you leave out one of the parentheses, then the message will say \"unexpected EOF while parsing\".\n",
    "\n",
    "\n",
    "### (B) If you are trying to print a string, what happens if you leave out one of the quotation marks, or both? What kind of error messages does Python produce for these mistakes?\n",
    "\n",
    "\u000f (i) print(Hello, world!)\n",
    "\u000f (ii) print(Hello, world)\n",
    "\u000f (iii) print(\"Hello, world)\n",
    "\n",
    "**Answer for 1B** It'll produce SynatxError, NameError, and SyntaxError, respectively for each code. The message each one produces respectively is: (i) \"Missing parentheses in call to 'print'. Did you mean print(\"Hello, world!\")?\" (ii) \"name 'Hello' is not defined\" (iii) \"EOL while scanning string literal\".\n",
    "\n",
    "\n",
    "### (C) You can use a minus sign to make a negative number like -2. Explain what happens if you put a plus sign before a number, like +2. Explain what happens if you put several + or - operators in a row. Do spaces make a difference here? Try the following operations to help you write your explanations.\n",
    "\n",
    "\u000f i) 3 + +2\n",
    "\u000f ii) 3 - +2\n",
    "\u000f iii) 3 + -2\n",
    "\u000f iv) 3 - -2\n",
    "\u000f v) 3--2\n",
    "\u000f vi) 3 + + +2\n",
    "\u000f vii) 3 - - - - -2\n",
    "\u000f viii) 3-----2\n",
    "\u000f ix) 3*--2\n",
    "\u000f x) 3-*-2\n",
    "\n",
    "**Answer for 1C** If you put a (+) sign in front of a number it'll see the number as a positive number. For example, (i) will see (3) + (+2) = (3) + (2) = 5. All of the results are given below in the coding section. If you put several operators (+/-) together, it'll be like multiplying the row operators by (+/- 1). For example, (vii) (3 - - - - -2) = (3) (-1)x(-1)x(-1)x(-1)x(-1) (2) = 3 + (-1x2) = 3 - 2 = 1. As comparison, (vi) has 3 (+1)x(+1)x(+1) 2 = 3 + 2 = 5. The spaces do NOT make a difference, and it shows there is no difference between having spaces and no spaces. The only difference is that you cannot put a multiplication symbol in the middle of the operator signs. If you look at (x) 3-x-2, you can see from  as \"SyntaxError: invalid syntax\".\n",
    "\n",
    "\n",
    "### (D) In math notation, leading zeros are ok, as in 09. What happens if you try this in Python? What about 011? Search the internet for information about Python and leading zeros and write a sentence summarizing your findings.\n",
    "\n",
    "**Answer for 1D** If you try to have a leading \"0\", then Python will give you a \"SyntaxError: invalid token\". If you try to say print(09) or just input 011, both will yield the error result.\n",
    "\n",
    "\n",
    "### (E) Explain what happens if you have two values with no operator between them, like 3 2.\n",
    "\n",
    "**Answer for 1E** It will give you a \"SyntaxError: invalid syntax\" if you try to run 2 values with no operator(s) between them, such as 3 2. The reason is because there is no math operaters between the numbers. The space between these numbers indicates these numbers are not together, but they have no operators to solve for them.\n",
    "\n",
    "\n",
    "\n",
    "## 2. Problem 2\n",
    "Use Python as a calculator. Enter the appropriate calculation in a cell and be sure the output value is visible. (5 points each)\n",
    "\n",
    "### (A) How many seconds are there in 42 minutes 42 seconds?\n",
    "\n",
    "**Answer for 2A** It is 2562 seconds. Work is shown below in coding work section.\n",
    "\n",
    "\n",
    "### (B) There are 1.61 kilometers in a mile. How many miles are there in 10 kilometers?\n",
    "\n",
    "**Answer for 2B** There are 6.21 miles in 10 kilometers.\n",
    "\n",
    "\n",
    "### (C) If you run a 10 kilometer race in 42 minutes 42 seconds, what is your average 1-mile pace (time to complete 1 mile in minutes and seconds)? What is your average speed in miles per hour?\n",
    "\n",
    "**Answer for 2C** The time it'll take for average 1-mile pace is 6 minutes and 52.2 seconds. Your average speed is 8.73 miles per hour.\n",
    "\n",
    "\n",
    "\n",
    "## 3. Problem 3\n",
    "Try more operations in your Jupyter Notebook to answer the following questions. When appropriate make sure the output value is visible. (4 points each)\n",
    "\n",
    "### (A) We've seen that n = 42 is legal. What about 42 = n? What is the error message?\n",
    "\n",
    "**Answer for 3A** It is NOT legal because you cannot assign a variable to a numeric value in Python. If you try 42 = n, you'll get a SyntaxError. The error will say \"can't assign to literal\".\n",
    "\n",
    "\n",
    "### (B) Is the following a legal statement? x = y = 1\n",
    "\n",
    "**Answer for 3B** It is legal because Python will see the variables x and y both get the numeric value of 1.\n",
    "\n",
    "\n",
    "### (C) In some languages every statement ends with a semi-colon ;. What happens if you put a semi-colon at the end of a Python statement? What function do semi-colons serve in Python?\n",
    "\n",
    "**Answer for 3C** Python will give an error and no output will be shown. The reason for this is because Python does NOT support the semi-colon is not part of their syntax. Semi-colons are used to separate commands on a single line.\n",
    "\n",
    "\n",
    "### (D) What happens if you put a period at the end of a statement?\n",
    "\n",
    "**Answer for 3D** It depends on what code is using the period. If we add period at the end of the assigning a variable, it will run the assignment as a Floating value. For example, if you have look at  \"x = 4.\" --> x --> 4.0. For any other functions, it will not work as it'll produce \"SyntaxError: invalid syntax\". Although, some Python functions have a period in them, as they are naturally part of the function (i.e. str.split())\n",
    "\n",
    "\n",
    "### (E) Explain the difference between the following two lines:\n",
    "\n",
    "\u000f (i) n = 42\n",
    "\u000f (ii) n = 42.\n",
    "\n",
    "**Answer for 3E** The difference is that without the period, the variable will produce \"42\" as an integer. If you have the period, the variable will produce it as a Floating value.\n",
    "\n",
    "\n",
    "\n",
    "## 4. Problem 4\n",
    "Write functions for the following problems.\n",
    "### (A) (10 points) The volume of a sphere with radius r is 4/3*pi*r^3. Write a function sphere_volume(r) that will accept a radius as an argument and return the volume.\n",
    "\n",
    "- Use the function to and the volume of a sphere with radius 5.\n",
    "- Use the function to and the volume of a sphere with radius 15.\n",
    "\n",
    "**Answer for 4A** With a radius of 5, the volume is 523.599 units^3. With radius of 15, the volume is 14137.167 units^3.\n",
    "\n",
    "\n",
    "### (B) (10 points) Suppose the cover price of a book is 24.95 dollars, but bookstores get a 40 percent discount. Shipping costs $3 for the first copy and 75 cents for each additional copy. Write a function wholesale_cost(books) that accepts an argument for the number of books and will return the total cost of the books plus shipping.\n",
    "\n",
    "- Use the function to and the total wholesale cost for 60 copies.\n",
    "- Use the function to and the total wholesale cost for 10 copies.\n",
    "\n",
    "**Answer for 4B** The total cost is 945.45 dollars for 60 books. The total cost is 159.45 dollars for 10 books.\n",
    "\n",
    "\n",
    "### (C) (10 points) A person runs several miles. The first and last miles are run at an 'easy' pace. Other than the frrst and last miles, the other miles are at a faster pace.\n",
    "\n",
    "- Write a function run_time(miles, warm_pace, fast_pace) to calculate the time the runner will take. The function accepts three input arguments: how many miles the runner travels (minimum value is 2), the warm-up and cool-down pace, the fast pace. The function will print the time in the format minutes:seconds, and will return a tuple of values: (minutes, seconds)\n",
    "- Use the function to and the time to run a total of 5 miles. The warm-up pace is 8:15 per mile. The speed pace is 7:12 per mile. For now, you can call the function using: run_time(miles = 5, warm_pace = 495, fast_pace = 432)\n",
    "\n",
    "**Answer for 4C** The total time is 44 minutes and 15.0 seconds.\n",
    "\n",
    "\n",
    "### Optional (+5 extra points): You can look up the function str.split() at https://docs.python.org/3/library/stdtypes.htmlstr.split So that the call can be made with minutes and seconds: run_time(5, \"8:15\", \"7:12\")\n",
    "\n",
    "**Answer for 4ExtraCredit**\n",
    "\n",
    "\n",
    "\n",
    "## 5. Problem 5 (10 points)\n",
    "You can use import math to gain access to math functions. Create a function polar(real, imaginary) that will return the polar coordinates of a complex number. The input arguments are the real and imaginary components of a complex number. The function will return a tuple of values: the value of the radius r and the angle theta.\n",
    "See: https://ptolemy.berkeley.edu/eecs20/sidebars/complex/polar.html\n",
    "Show the results for the following complex numbers:\n",
    "\n",
    "\u000f i) 1 + i\n",
    "\u000f ii) -2 - 3i\n",
    "\u000f iii) 4 + 2i\n",
    "\n",
    "**Answer for 5** For (i) (1.414, 0.785), (ii) (3.606, -2.159), and (iii) (4.472, 0.464) for the polar coordinates in radian form."
   ]
  },
  {
   "cell_type": "markdown",
   "metadata": {},
   "source": [
    "Below is all of our testing for the codes above **(This section is Python Code *ONLY*)**:\n",
    "All questions and works/answers have them put in a comment as to which code belongs to which question."
   ]
  },
  {
   "cell_type": "code",
   "execution_count": 1,
   "metadata": {},
   "outputs": [
    {
     "data": {
      "text/plain": [
       "5"
      ]
     },
     "execution_count": 1,
     "metadata": {},
     "output_type": "execute_result"
    }
   ],
   "source": [
    "# 1C\n",
    "3 + +2"
   ]
  },
  {
   "cell_type": "code",
   "execution_count": 2,
   "metadata": {},
   "outputs": [
    {
     "data": {
      "text/plain": [
       "1"
      ]
     },
     "execution_count": 2,
     "metadata": {},
     "output_type": "execute_result"
    }
   ],
   "source": [
    "# 1C\n",
    "3 - +2"
   ]
  },
  {
   "cell_type": "code",
   "execution_count": 3,
   "metadata": {},
   "outputs": [
    {
     "data": {
      "text/plain": [
       "1"
      ]
     },
     "execution_count": 3,
     "metadata": {},
     "output_type": "execute_result"
    }
   ],
   "source": [
    "# 1C\n",
    "3 + -2"
   ]
  },
  {
   "cell_type": "code",
   "execution_count": 4,
   "metadata": {},
   "outputs": [
    {
     "data": {
      "text/plain": [
       "5"
      ]
     },
     "execution_count": 4,
     "metadata": {},
     "output_type": "execute_result"
    }
   ],
   "source": [
    "# 1C\n",
    "3 - -2"
   ]
  },
  {
   "cell_type": "code",
   "execution_count": 5,
   "metadata": {},
   "outputs": [
    {
     "data": {
      "text/plain": [
       "5"
      ]
     },
     "execution_count": 5,
     "metadata": {},
     "output_type": "execute_result"
    }
   ],
   "source": [
    "# 1C\n",
    "3--2"
   ]
  },
  {
   "cell_type": "code",
   "execution_count": 6,
   "metadata": {},
   "outputs": [
    {
     "data": {
      "text/plain": [
       "5"
      ]
     },
     "execution_count": 6,
     "metadata": {},
     "output_type": "execute_result"
    }
   ],
   "source": [
    "# 1C\n",
    "3 + + +2"
   ]
  },
  {
   "cell_type": "code",
   "execution_count": 7,
   "metadata": {},
   "outputs": [
    {
     "data": {
      "text/plain": [
       "1"
      ]
     },
     "execution_count": 7,
     "metadata": {},
     "output_type": "execute_result"
    }
   ],
   "source": [
    "# 1C\n",
    "3 - - - - -2"
   ]
  },
  {
   "cell_type": "code",
   "execution_count": 8,
   "metadata": {},
   "outputs": [
    {
     "data": {
      "text/plain": [
       "1"
      ]
     },
     "execution_count": 8,
     "metadata": {},
     "output_type": "execute_result"
    }
   ],
   "source": [
    "# 1C\n",
    "3-----2"
   ]
  },
  {
   "cell_type": "code",
   "execution_count": 9,
   "metadata": {},
   "outputs": [
    {
     "data": {
      "text/plain": [
       "6"
      ]
     },
     "execution_count": 9,
     "metadata": {},
     "output_type": "execute_result"
    }
   ],
   "source": [
    "# 1C\n",
    "3*--2"
   ]
  },
  {
   "cell_type": "code",
   "execution_count": 10,
   "metadata": {},
   "outputs": [
    {
     "data": {
      "text/plain": [
       "2562"
      ]
     },
     "execution_count": 10,
     "metadata": {},
     "output_type": "execute_result"
    }
   ],
   "source": [
    "# 2A\n",
    "(42*60) + 42"
   ]
  },
  {
   "cell_type": "code",
   "execution_count": 11,
   "metadata": {},
   "outputs": [
    {
     "data": {
      "text/plain": [
       "6.211180124223602"
      ]
     },
     "execution_count": 11,
     "metadata": {},
     "output_type": "execute_result"
    }
   ],
   "source": [
    "# 2B\n",
    "10/1.61"
   ]
  },
  {
   "cell_type": "code",
   "execution_count": 12,
   "metadata": {},
   "outputs": [
    {
     "data": {
      "text/plain": [
       "412.482"
      ]
     },
     "execution_count": 12,
     "metadata": {},
     "output_type": "execute_result"
    }
   ],
   "source": [
    "# 2C\n",
    "2562/(10/1.61)"
   ]
  },
  {
   "cell_type": "code",
   "execution_count": 13,
   "metadata": {},
   "outputs": [
    {
     "data": {
      "text/plain": [
       "6.874666666666667"
      ]
     },
     "execution_count": 13,
     "metadata": {},
     "output_type": "execute_result"
    }
   ],
   "source": [
    "# 2C\n",
    "412.48/60"
   ]
  },
  {
   "cell_type": "code",
   "execution_count": 14,
   "metadata": {},
   "outputs": [
    {
     "data": {
      "text/plain": [
       "52.2"
      ]
     },
     "execution_count": 14,
     "metadata": {},
     "output_type": "execute_result"
    }
   ],
   "source": [
    "# 2C\n",
    "0.87*60"
   ]
  },
  {
   "cell_type": "code",
   "execution_count": 15,
   "metadata": {},
   "outputs": [
    {
     "data": {
      "text/plain": [
       "8.727653570337614"
      ]
     },
     "execution_count": 15,
     "metadata": {},
     "output_type": "execute_result"
    }
   ],
   "source": [
    "# 2C\n",
    "(10/1.61)/(2562/3600)"
   ]
  },
  {
   "cell_type": "code",
   "execution_count": 16,
   "metadata": {},
   "outputs": [],
   "source": [
    "# 3B\n",
    "x = y = 1"
   ]
  },
  {
   "cell_type": "code",
   "execution_count": 17,
   "metadata": {},
   "outputs": [
    {
     "data": {
      "text/plain": [
       "1"
      ]
     },
     "execution_count": 17,
     "metadata": {},
     "output_type": "execute_result"
    }
   ],
   "source": [
    "# 3B\n",
    "x"
   ]
  },
  {
   "cell_type": "code",
   "execution_count": 18,
   "metadata": {},
   "outputs": [
    {
     "data": {
      "text/plain": [
       "1"
      ]
     },
     "execution_count": 18,
     "metadata": {},
     "output_type": "execute_result"
    }
   ],
   "source": [
    "# 3B\n",
    "y"
   ]
  },
  {
   "cell_type": "code",
   "execution_count": 19,
   "metadata": {},
   "outputs": [
    {
     "data": {
      "text/plain": [
       "4.0"
      ]
     },
     "execution_count": 19,
     "metadata": {},
     "output_type": "execute_result"
    }
   ],
   "source": [
    "# 3D (works for assigning variables)\n",
    "x = 4.\n",
    "x"
   ]
  },
  {
   "cell_type": "code",
   "execution_count": 20,
   "metadata": {},
   "outputs": [
    {
     "data": {
      "text/plain": [
       "42"
      ]
     },
     "execution_count": 20,
     "metadata": {},
     "output_type": "execute_result"
    }
   ],
   "source": [
    "# 3E\n",
    "n = 42\n",
    "n"
   ]
  },
  {
   "cell_type": "code",
   "execution_count": 21,
   "metadata": {},
   "outputs": [
    {
     "data": {
      "text/plain": [
       "42.0"
      ]
     },
     "execution_count": 21,
     "metadata": {},
     "output_type": "execute_result"
    }
   ],
   "source": [
    "# 3E\n",
    "n = 42.\n",
    "n"
   ]
  },
  {
   "cell_type": "code",
   "execution_count": 22,
   "metadata": {},
   "outputs": [],
   "source": [
    "# 4A\n",
    "import math\n",
    "def sphere_volume(r):\n",
    "   volume = ((4 / 3) * (math.pi) * (r) ** 3) \n",
    "   return(round(volume, 3))"
   ]
  },
  {
   "cell_type": "code",
   "execution_count": 23,
   "metadata": {},
   "outputs": [
    {
     "data": {
      "text/plain": [
       "523.599"
      ]
     },
     "execution_count": 23,
     "metadata": {},
     "output_type": "execute_result"
    }
   ],
   "source": [
    "# 4A\n",
    "r = 5\n",
    "sphere_volume(r)"
   ]
  },
  {
   "cell_type": "code",
   "execution_count": 24,
   "metadata": {},
   "outputs": [
    {
     "data": {
      "text/plain": [
       "14137.167"
      ]
     },
     "execution_count": 24,
     "metadata": {},
     "output_type": "execute_result"
    }
   ],
   "source": [
    "# 4A\n",
    "r = 15\n",
    "sphere_volume(r)"
   ]
  },
  {
   "cell_type": "code",
   "execution_count": 25,
   "metadata": {},
   "outputs": [],
   "source": [
    "# 4B\n",
    "def wholesale_cost(books):\n",
    "   discount_books = ((24.95 * (1 - 0.40)) * books) # 40% discount will give you 60% of the cost; $24.95 for book\n",
    "   shipping_costs = (3.0 + (0.75 * (books - 1))) # $3 for 1st copy, and rest books minus 1st copy are 75 cents.\n",
    "   total_costs = discount_books + shipping_costs\n",
    "   return(round(total_costs, 2))"
   ]
  },
  {
   "cell_type": "code",
   "execution_count": 26,
   "metadata": {},
   "outputs": [
    {
     "data": {
      "text/plain": [
       "945.45"
      ]
     },
     "execution_count": 26,
     "metadata": {},
     "output_type": "execute_result"
    }
   ],
   "source": [
    "# 4B\n",
    "books = 60\n",
    "wholesale_cost(books)"
   ]
  },
  {
   "cell_type": "code",
   "execution_count": 27,
   "metadata": {},
   "outputs": [
    {
     "data": {
      "text/plain": [
       "159.45"
      ]
     },
     "execution_count": 27,
     "metadata": {},
     "output_type": "execute_result"
    }
   ],
   "source": [
    "# 4B\n",
    "books = 10\n",
    "wholesale_cost(books)"
   ]
  },
  {
   "cell_type": "code",
   "execution_count": 28,
   "metadata": {},
   "outputs": [],
   "source": [
    "# 4C\n",
    "def run_time(miles, warm_pace, fast_pace):\n",
    "    time_fast_pace = (fast_pace)*(miles)\n",
    "    time_total = (warm_pace + time_fast_pace)/60\n",
    "    time_min = int(time_total)\n",
    "    time_sec = (time_total - int(time_total)) * 60\n",
    "    return(time_min, time_sec)"
   ]
  },
  {
   "cell_type": "code",
   "execution_count": 29,
   "metadata": {},
   "outputs": [
    {
     "data": {
      "text/plain": [
       "(44, 15.0)"
      ]
     },
     "execution_count": 29,
     "metadata": {},
     "output_type": "execute_result"
    }
   ],
   "source": [
    "# 4C\n",
    "run_time(miles = 5, warm_pace = 495, fast_pace = 432)"
   ]
  },
  {
   "cell_type": "code",
   "execution_count": 30,
   "metadata": {},
   "outputs": [],
   "source": [
    "# 5\n",
    "import math\n",
    "\n",
    "def polar(real, imaginary):\n",
    "    x = real\n",
    "    y = imaginary\n",
    "    theta = math.atan2(y, x)\n",
    "    r = math.sqrt(x**2 + y**2)\n",
    "    return(round(r, 3), round(theta, 3))"
   ]
  },
  {
   "cell_type": "code",
   "execution_count": 31,
   "metadata": {},
   "outputs": [
    {
     "data": {
      "text/plain": [
       "(1.414, 0.785)"
      ]
     },
     "execution_count": 31,
     "metadata": {},
     "output_type": "execute_result"
    }
   ],
   "source": [
    "# 5\n",
    "polar(1, 1)"
   ]
  },
  {
   "cell_type": "code",
   "execution_count": 32,
   "metadata": {},
   "outputs": [
    {
     "data": {
      "text/plain": [
       "(3.606, -2.159)"
      ]
     },
     "execution_count": 32,
     "metadata": {},
     "output_type": "execute_result"
    }
   ],
   "source": [
    "# 5\n",
    "polar(-2, -3)"
   ]
  },
  {
   "cell_type": "code",
   "execution_count": 33,
   "metadata": {},
   "outputs": [
    {
     "data": {
      "text/plain": [
       "(4.472, 0.464)"
      ]
     },
     "execution_count": 33,
     "metadata": {},
     "output_type": "execute_result"
    }
   ],
   "source": [
    "# 5\n",
    "polar(4, 2)"
   ]
  }
 ],
 "metadata": {
  "kernelspec": {
   "display_name": "Python 3",
   "language": "python",
   "name": "python3"
  },
  "language_info": {
   "codemirror_mode": {
    "name": "ipython",
    "version": 3
   },
   "file_extension": ".py",
   "mimetype": "text/x-python",
   "name": "python",
   "nbconvert_exporter": "python",
   "pygments_lexer": "ipython3",
   "version": "3.7.6"
  }
 },
 "nbformat": 4,
 "nbformat_minor": 4
}
