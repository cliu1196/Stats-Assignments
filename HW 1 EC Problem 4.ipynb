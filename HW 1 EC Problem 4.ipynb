{
 "cells": [
  {
   "cell_type": "code",
   "execution_count": 3,
   "metadata": {},
   "outputs": [],
   "source": [
    "# 4ExtraCredit\n",
    "def run_time_EC(miles, warm_pace, fast_pace):\n",
    "    warm_pace_min_a = warm_pace.split(':')[:1]\n",
    "    warm_pace_min_b = warm_pace_min_a[0]\n",
    "    warm_pace_min_c = int(warm_pace_min_b)\n",
    "    fast_pace_min_a = 'fast_pace'.split(':')[:1]\n",
    "    fast_pace_min_b = fast_pace_a[0]\n",
    "    fast_pace_min_c = int(fast_pace_c)\n",
    "    warm_pace_sec_a = 'warm_pace'.split(':')[1:]\n",
    "    warm_pace_sec_b = warm_pace_sec_a[0]\n",
    "    warm_pace_sec_c = int(warm_pace_sec_b)\n",
    "    fast_pace_sec_a = 'warm_pace'.split(':')[1:]\n",
    "    fast_pace_sec_b = fast_pace_sec_a[0]\n",
    "    fast_pace_sec_c = int(fast_pace_sec_b)\n",
    "    total_min = warm_pace_min_c + fast_pace_min_c\n",
    "    total_sec = warm_pace_sec_c + fast_pace_sec_c\n",
    "    return(total_min, total_sec)"
   ]
  },
  {
   "cell_type": "code",
   "execution_count": 4,
   "metadata": {},
   "outputs": [
    {
     "ename": "NameError",
     "evalue": "name 'fast_pace_a' is not defined",
     "output_type": "error",
     "traceback": [
      "\u001b[1;31m---------------------------------------------------------------------------\u001b[0m",
      "\u001b[1;31mNameError\u001b[0m                                 Traceback (most recent call last)",
      "\u001b[1;32m<ipython-input-4-80446ee07ea6>\u001b[0m in \u001b[0;36m<module>\u001b[1;34m\u001b[0m\n\u001b[1;32m----> 1\u001b[1;33m \u001b[0mrun_time_EC\u001b[0m\u001b[1;33m(\u001b[0m\u001b[0mmiles\u001b[0m \u001b[1;33m=\u001b[0m \u001b[1;36m5\u001b[0m\u001b[1;33m,\u001b[0m \u001b[0mwarm_pace\u001b[0m \u001b[1;33m=\u001b[0m \u001b[1;34m'8:15'\u001b[0m\u001b[1;33m,\u001b[0m \u001b[0mfast_pace\u001b[0m \u001b[1;33m=\u001b[0m \u001b[1;34m'7:12'\u001b[0m\u001b[1;33m)\u001b[0m\u001b[1;33m\u001b[0m\u001b[1;33m\u001b[0m\u001b[0m\n\u001b[0m",
      "\u001b[1;32m<ipython-input-3-5458a05d3c08>\u001b[0m in \u001b[0;36mrun_time_EC\u001b[1;34m(miles, warm_pace, fast_pace)\u001b[0m\n\u001b[0;32m      5\u001b[0m     \u001b[0mwarm_pace_min_c\u001b[0m \u001b[1;33m=\u001b[0m \u001b[0mint\u001b[0m\u001b[1;33m(\u001b[0m\u001b[0mwarm_pace_min_b\u001b[0m\u001b[1;33m)\u001b[0m\u001b[1;33m\u001b[0m\u001b[1;33m\u001b[0m\u001b[0m\n\u001b[0;32m      6\u001b[0m     \u001b[0mfast_pace_min_a\u001b[0m \u001b[1;33m=\u001b[0m \u001b[1;34m'fast_pace'\u001b[0m\u001b[1;33m.\u001b[0m\u001b[0msplit\u001b[0m\u001b[1;33m(\u001b[0m\u001b[1;34m':'\u001b[0m\u001b[1;33m)\u001b[0m\u001b[1;33m[\u001b[0m\u001b[1;33m:\u001b[0m\u001b[1;36m1\u001b[0m\u001b[1;33m]\u001b[0m\u001b[1;33m\u001b[0m\u001b[1;33m\u001b[0m\u001b[0m\n\u001b[1;32m----> 7\u001b[1;33m     \u001b[0mfast_pace_min_b\u001b[0m \u001b[1;33m=\u001b[0m \u001b[0mfast_pace_a\u001b[0m\u001b[1;33m[\u001b[0m\u001b[1;36m0\u001b[0m\u001b[1;33m]\u001b[0m\u001b[1;33m\u001b[0m\u001b[1;33m\u001b[0m\u001b[0m\n\u001b[0m\u001b[0;32m      8\u001b[0m     \u001b[0mfast_pace_min_c\u001b[0m \u001b[1;33m=\u001b[0m \u001b[0mint\u001b[0m\u001b[1;33m(\u001b[0m\u001b[0mfast_pace_c\u001b[0m\u001b[1;33m)\u001b[0m\u001b[1;33m\u001b[0m\u001b[1;33m\u001b[0m\u001b[0m\n\u001b[0;32m      9\u001b[0m     \u001b[0mwarm_pace_sec_a\u001b[0m \u001b[1;33m=\u001b[0m \u001b[1;34m'warm_pace'\u001b[0m\u001b[1;33m.\u001b[0m\u001b[0msplit\u001b[0m\u001b[1;33m(\u001b[0m\u001b[1;34m':'\u001b[0m\u001b[1;33m)\u001b[0m\u001b[1;33m[\u001b[0m\u001b[1;36m1\u001b[0m\u001b[1;33m:\u001b[0m\u001b[1;33m]\u001b[0m\u001b[1;33m\u001b[0m\u001b[1;33m\u001b[0m\u001b[0m\n",
      "\u001b[1;31mNameError\u001b[0m: name 'fast_pace_a' is not defined"
     ]
    }
   ],
   "source": [
    "run_time_EC(miles = 5, warm_pace = '8:15', fast_pace = '7:12')"
   ]
  },
  {
   "cell_type": "code",
   "execution_count": null,
   "metadata": {},
   "outputs": [],
   "source": []
  }
 ],
 "metadata": {
  "kernelspec": {
   "display_name": "Python 3",
   "language": "python",
   "name": "python3"
  },
  "language_info": {
   "codemirror_mode": {
    "name": "ipython",
    "version": 3
   },
   "file_extension": ".py",
   "mimetype": "text/x-python",
   "name": "python",
   "nbconvert_exporter": "python",
   "pygments_lexer": "ipython3",
   "version": "3.7.6"
  }
 },
 "nbformat": 4,
 "nbformat_minor": 4
}
